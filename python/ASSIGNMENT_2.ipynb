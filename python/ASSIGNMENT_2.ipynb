{
 "cells": [
  {
   "cell_type": "code",
   "execution_count": 2,
   "metadata": {},
   "outputs": [
    {
     "name": "stdout",
     "output_type": "stream",
     "text": [
      "The updated tuple is : (11, [222, 33], 44, 55)\n"
     ]
    }
   ],
   "source": [
    "# Q 1: Modify the first item (22) of a list inside a following tuple to 222 ?\n",
    "# tuple1 = (11, [22, 33], 44, 55)\n",
    "\n",
    "tuple1 = (11, [22, 33], 44, 55)   #define the tuple1\n",
    "list0=list(tuple1)                #convert tuple1 to list0\n",
    "list0[1][0]=222                   # innerlist element 22 is change 222\n",
    "print(\"The updated tuple is :\",tuple1)     #print output"
   ]
  },
  {
   "cell_type": "code",
   "execution_count": 13,
   "metadata": {},
   "outputs": [
    {
     "name": "stdout",
     "output_type": "stream",
     "text": [
      "Count the number of occurrences of item  50 : 2\n"
     ]
    }
   ],
   "source": [
    "#Q 2: Count the number of occurrences of item 50 from a tuple ?\n",
    "# tuple1 = (50, 10, 60, 70, 50)\n",
    "\n",
    "tuple1 = (50, 10, 60, 70, 50)     #define tuple1\n",
    "count=0                           #define the count variable to check the occurence\n",
    "\n",
    "for i in tuple1:\n",
    "    if(i==50):\n",
    "        count=count+1\n",
    "print(\"Count the number of occurrences of item \",i, \":\",count)    #print the count\n"
   ]
  },
  {
   "cell_type": "code",
   "execution_count": 18,
   "metadata": {},
   "outputs": [
    {
     "name": "stdout",
     "output_type": "stream",
     "text": [
      "enter the size of list: 5\n",
      "enter the element 1\n",
      "enter the element 2\n",
      "enter the element 3\n",
      "enter the element 4\n",
      "enter the element 5\n",
      "['1', '2', '3', '4', '5']\n",
      "list is covert into tuple: ('1', '2', '3', '4', '5')\n"
     ]
    }
   ],
   "source": [
    "# Q 3: Write a Python program to convert a list to a tuple\n",
    "\n",
    "list1=[]\n",
    "n=int(input(\"enter the size of list: \"))    #size of list\n",
    "for i in range(0,n):                       #add elements in list\n",
    "    ele=input(\"enter the element \")\n",
    "    list1.append(ele)\n",
    "print(list1)\n",
    "a=tuple(list1)                        #convert list to tuple   \n",
    "print(\"list is covert into tuple:\",a)    #output tuple"
   ]
  },
  {
   "cell_type": "code",
   "execution_count": 22,
   "metadata": {},
   "outputs": [
    {
     "name": "stdout",
     "output_type": "stream",
     "text": [
      "new set {70, 40, 10, 50, 20, 60, 30}\n"
     ]
    }
   ],
   "source": [
    "# Q 4: Returns a new set with all items from both sets by removing duplicates\n",
    "#set1 = {10, 20, 30, 40, 50}\n",
    "#set2 = {30, 40, 50, 60, 70}\n",
    "\n",
    "\n",
    "set1 = {10, 20, 30, 40, 50}\n",
    "set2 = {30, 40, 50, 60, 70}  #define 2 sets\n",
    "set3=set1.union(set2)       #using set operation function to add\n",
    "print(\"new set\",set3)       # new set\n",
    "\n"
   ]
  },
  {
   "cell_type": "code",
   "execution_count": 27,
   "metadata": {},
   "outputs": [
    {
     "name": "stdout",
     "output_type": "stream",
     "text": [
      "merge the dict is:  {'Ten': 10, 'Twenty': 20, 'Thirty': 30, 'Fourty': 40, 'Fifty': 50}\n"
     ]
    }
   ],
   "source": [
    "# Q5: Merge following two Python dictionaries into one\n",
    " #dict1 = {'Ten': 10, 'Twenty': 20, 'Thirty': 30}\n",
    " #dict2 = {'Thirty': 30, 'Fourty': 40, 'Fifty': 50}\n",
    "\n",
    "dict1 = {'Ten': 10, 'Twenty': 20, 'Thirty': 30}\n",
    "dict2 = {'Thirty': 30, 'Fourty': 40, 'Fifty': 50}  #define 2 dictionaries\n",
    "dict3=dict1.update(dict2)                         #add dictionaries using update function\n",
    "print(\"merge the dict is: \",dict1)                #merged list\n"
   ]
  },
  {
   "cell_type": "code",
   "execution_count": 28,
   "metadata": {},
   "outputs": [
    {
     "name": "stdout",
     "output_type": "stream",
     "text": [
      "{'emp1': {'name': 'Jhon', 'salary': 7500}, 'emp2': {'name': 'Emma', 'salary': 8000}, 'emp3': {'name': 'Brad', 'salary': 8500}}\n"
     ]
    }
   ],
   "source": [
    "# Q6: Given a Python dictionary, Change Brad’s salary to 8500\n",
    "#sampleDict = {\n",
    " #'emp1': {'name': 'Jhon', 'salary': 7500},\n",
    " #'emp2': {'name': 'Emma', 'salary': 8000},\n",
    " #'emp3': {'name': 'Brad', 'salary': 6500}}\n",
    "\n",
    "sampleDict = {\n",
    "'emp1': {'name': 'Jhon', 'salary': 7500},\n",
    "'emp2': {'name': 'Emma', 'salary': 8000},\n",
    "'emp3': {'name': 'Brad', 'salary': 6500}      #define  dictionary\n",
    "}\n",
    "\n",
    "sampleDict['emp3']['salary']=8500          #  Change Brad’s salary to 8500\n",
    "print(sampleDict)"
   ]
  },
  {
   "cell_type": "code",
   "execution_count": 31,
   "metadata": {},
   "outputs": [
    {
     "name": "stdout",
     "output_type": "stream",
     "text": [
      "{'name': 'Kelly', 'age': 25, 'salary': 8000, 'location': 'New york'}\n"
     ]
    }
   ],
   "source": [
    "# Q7: Rename key city to location in the following dictionary\n",
    "# sampleDict = {\"name\": \"Kelly\", \"age\":25, \"salary\": 8000, \"city\": \"New york\"}\n",
    "\n",
    "sampleDict = {\n",
    " \"name\": \"Kelly\",\n",
    " \"age\":25,\n",
    " \"salary\": 8000,                                #define dictionary\n",
    " \"city\": \"New york\"\n",
    "}\n",
    "sampleDict[\"location\"]=sampleDict.pop(\"city\") #using the pop function \n",
    "print(sampleDict)"
   ]
  }
 ],
 "metadata": {
  "kernelspec": {
   "display_name": "Python 3",
   "language": "python",
   "name": "python3"
  },
  "language_info": {
   "codemirror_mode": {
    "name": "ipython",
    "version": 3
   },
   "file_extension": ".py",
   "mimetype": "text/x-python",
   "name": "python",
   "nbconvert_exporter": "python",
   "pygments_lexer": "ipython3",
   "version": "3.8.3"
  }
 },
 "nbformat": 4,
 "nbformat_minor": 4
}

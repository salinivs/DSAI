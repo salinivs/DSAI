{
 "cells": [
  {
   "cell_type": "code",
   "execution_count": 5,
   "metadata": {},
   "outputs": [
    {
     "name": "stdout",
     "output_type": "stream",
     "text": [
      "Addition =  50\n",
      "subtraction =  30\n"
     ]
    }
   ],
   "source": [
    "#Q1: Write a function calculation() such that it can accept two variables as arguments and calculate the addition and\n",
    "#subtraction of it. And also it must return both addition and subtraction in a single return call\n",
    "\n",
    "\n",
    "def calculation(a, b):              # define the calculation function\n",
    "    addition=a+b                    # calculation function used to add and substract\n",
    "    subtraction=a-b\n",
    "    return addition,subtraction      # return add and substract values\n",
    "\n",
    "addition,subtraction = calculation(40, 10)  #function call\n",
    "print(\"Addition = \",addition)\n",
    "print(\"subtraction = \",subtraction)      #results\n"
   ]
  },
  {
   "cell_type": "code",
   "execution_count": 9,
   "metadata": {},
   "outputs": [
    {
     "name": "stdout",
     "output_type": "stream",
     "text": [
      "Employee Name is  :  Krisna\n",
      "Salary of is 10000\n",
      "Employee Name is  :  Deepthi\n",
      "Salary of is 9000\n"
     ]
    }
   ],
   "source": [
    "# Q2 : Create a function showEmployee() in such a way that it should accept employee name, and it’s salary and display both,\n",
    "# and if the salary is missing in function call it should show it as 9000 \n",
    "\n",
    "def showEmployee(E_name,salary=9000):                # define showEmployee()  \n",
    "  print(\"Employee Name is  : \",E_name)\n",
    "  print(f'Salary of is {salary}')                   #result\n",
    "\n",
    "showEmployee(\"Krisna\",10000)                        #function call \n",
    "showEmployee(\"Deepthi\")\n",
    "\n",
    "\n",
    "\n"
   ]
  },
  {
   "cell_type": "code",
   "execution_count": 32,
   "metadata": {},
   "outputs": [
    {
     "name": "stdout",
     "output_type": "stream",
     "text": [
      "{'a': 1, 'w': 1, 'e': 1, 's': 1, 'o': 1, 'm': 1}\n"
     ]
    }
   ],
   "source": [
    "# Q3 : Write a function called multipleLetterCount. This function takes in one parameter (a string) and returns a dictionary with the\n",
    "# keys being the letters and the value being the count of the letter.\n",
    "#Example output:\n",
    "# multipleLetterCount('awesome')\n",
    "# {'a': 1, 'e': 2, 'm': 1, 'o': 1, 's': 1, 'w': 1}\n",
    "\n",
    "\n",
    "def multipleLetterCount(s):                   #define function\n",
    "  dict={}\n",
    "  for ele in s:\n",
    "    keys=dict.keys()\n",
    "    if ele in keys:                           #set key\n",
    "      dict[ele]=dict[ele]\n",
    "    else:\n",
    "      dict[ele]=1\n",
    "  return dict\n",
    "\n",
    "s=multipleLetterCount('awesome')                 #call function\n",
    "print(dict(s))                                  #returns a dictionary\n",
    "\n"
   ]
  }
 ],
 "metadata": {
  "kernelspec": {
   "display_name": "Python 3",
   "language": "python",
   "name": "python3"
  },
  "language_info": {
   "codemirror_mode": {
    "name": "ipython",
    "version": 3
   },
   "file_extension": ".py",
   "mimetype": "text/x-python",
   "name": "python",
   "nbconvert_exporter": "python",
   "pygments_lexer": "ipython3",
   "version": "3.8.3"
  }
 },
 "nbformat": 4,
 "nbformat_minor": 4
}

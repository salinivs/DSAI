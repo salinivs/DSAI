{
 "cells": [
  {
   "cell_type": "markdown",
   "metadata": {},
   "source": [
    "Q1: create a txt file, enter multiple lines of text. read this file line by line and  store\n",
    "it into a list. Apply exception handling technique."
   ]
  },
  {
   "cell_type": "code",
   "execution_count": 2,
   "metadata": {},
   "outputs": [
    {
     "name": "stdout",
     "output_type": "stream",
     "text": [
      "Overwriting doc_file.txt\n"
     ]
    }
   ],
   "source": [
    "%%writefile doc_file.txt\n",
    "Python is an open source programming language that was made to be easy-to-read and powerful.\n",
    "Python is an Oop based programming language.\n",
    "A Dutch programmer named Guido van Rossum made Python in 1991.\n",
    "A Dutch programmer named Guido van Rossum made Python in 1991.\n",
    "He named it after the television show Monty Python's Flying Circus.\n",
    "This means that a programmer can change the code and quickly see the results.\n"
   ]
  },
  {
   "cell_type": "code",
   "execution_count": 11,
   "metadata": {},
   "outputs": [
    {
     "name": "stdout",
     "output_type": "stream",
     "text": [
      "Python is an open source programming language that was made to be easy-to-read and powerful.\n",
      "\n",
      "Python is an Oop based programming language.\n",
      "\n",
      "A Dutch programmer named Guido van Rossum made Python in 1991.\n",
      "\n",
      "A Dutch programmer named Guido van Rossum made Python in 1991.\n",
      "\n",
      "He named it after the television show Monty Python's Flying Circus.\n",
      "\n",
      "This means that a programmer can change the code and quickly see the results.\n",
      "\n",
      ".................................................. task completed ..................................................\n"
     ]
    }
   ],
   "source": [
    "try:\n",
    "    myfile=open(\"doc_file.txt\",\"r\")#open doc_file\n",
    "    myfile.seek(0)\n",
    "    lines=myfile.readlines()\n",
    "    lst=[line for line in lines]#read the contents line by line from doc_file and store it into a list 'lst'\n",
    "    for i in lst:\n",
    "      print(i)\n",
    "except:\n",
    "   print(\"Couldn't open file....!\")\n",
    "else:\n",
    "   print(\".\"*50,\"Task completed\",\".\"*50)"
   ]
  },
  {
   "cell_type": "markdown",
   "metadata": {},
   "source": [
    "Q2: Write a Python program to write below list content to a file. Apply exception\n",
    "handling technique\n",
    "\n",
    "color = ['Red', 'Green', 'White', 'Black', 'Pink', 'Yellow']"
   ]
  },
  {
   "cell_type": "code",
   "execution_count": 5,
   "metadata": {},
   "outputs": [
    {
     "name": "stdout",
     "output_type": "stream",
     "text": [
      "Red\n",
      "Green\n",
      "White\n",
      "Black\n",
      "Pink\n",
      "Yellow\n",
      "\n"
     ]
    }
   ],
   "source": [
    "color=['Red','Green','White','Black','Pink','Yellow']\n",
    "try:\n",
    "    f=open('listfile.txt','w+')\n",
    "    for i in color:\n",
    "        f.write(i)\n",
    "        f.write(\"\\n\")\n",
    "except:\n",
    "    print(\"couldn't write to the file....!\")\n",
    "f.seek(0)\n",
    "print(f.read())"
   ]
  },
  {
   "cell_type": "markdown",
   "metadata": {},
   "source": [
    "Q3: Create a txt file, enter multiple lines of text. remove newline characters from created file and print as a list. Apply exception handling techniques wherever possible"
   ]
  },
  {
   "cell_type": "code",
   "execution_count": 33,
   "metadata": {},
   "outputs": [
    {
     "name": "stdout",
     "output_type": "stream",
     "text": [
      "Overwriting text_file.txt\n"
     ]
    }
   ],
   "source": [
    "%%writefile text_file.txt \n",
    "Python is an open source programming language that was made to be easy-to-read and powerful.\n",
    "Python is Oop based programming language.A Dutch programmer named Guido van Rossum made Python in 1991.\n",
    "A Dutch programmer named Guido van Rossum made Python in 1991."
   ]
  },
  {
   "cell_type": "code",
   "execution_count": 34,
   "metadata": {},
   "outputs": [
    {
     "name": "stdout",
     "output_type": "stream",
     "text": [
      "['Python is an open source programming language that was made to be easy-to-read and powerful.', 'Python is Oop based programming language.A Dutch programmer named Guido van Rossum made Python in 1991.', 'A Dutch programmer named Guido van Rossum made Python in 1991.']\n"
     ]
    }
   ],
   "source": [
    "try:\n",
    "  fo=open(\"text_file.txt\")\n",
    "  list1=[]\n",
    "  for i in fo:\n",
    "    list1.append(i.strip(\"\\n\")) #remove '\\n' using strip() method and append the item to list\n",
    "  print(list1)\n",
    "except:\n",
    "  print(\"Error...............\")\n",
    "    "
   ]
  },
  {
   "cell_type": "markdown",
   "metadata": {},
   "source": [
    "Q4: create a testfile1.txt file, enter multiple lines of text . Now copy contents of\n",
    "testfile1.txt to new file testfile22.txt. Apply exception handling techniques\n",
    "wherever possible."
   ]
  },
  {
   "cell_type": "code",
   "execution_count": 3,
   "metadata": {},
   "outputs": [
    {
     "name": "stdout",
     "output_type": "stream",
     "text": [
      "Python is an open source programming language that was made to be easy-to-read and powerful.Python is Oop based programming language.A Dutch programmer named Guido van Rossum made Python in 1991.\n"
     ]
    }
   ],
   "source": [
    "try:\n",
    "    f1 = open(\"testfile1.txt\", \"w+\")\n",
    "    f1.write(\"Python is an open source programming language that was made to be easy-to-read and powerful.Python is Oop based programming language.A Dutch programmer named Guido van Rossum made Python in 1991.\")\n",
    "\n",
    "except:\n",
    "     print(\"something wrong....\")\n",
    "else:\n",
    "    f1.seek(0)\n",
    "    mystr=f1.read()\n",
    "    try:\n",
    "        f2=open(\"testfile22.txt\",\"w+\")\n",
    "        f2.write(mystr)\n",
    "        f2.seek(0)\n",
    "        print(f2.read())\n",
    "    except:\n",
    "        print(\"couldn't write to the file...\")"
   ]
  },
  {
   "cell_type": "code",
   "execution_count": null,
   "metadata": {},
   "outputs": [],
   "source": []
  },
  {
   "cell_type": "code",
   "execution_count": null,
   "metadata": {},
   "outputs": [],
   "source": []
  }
 ],
 "metadata": {
  "kernelspec": {
   "display_name": "Python 3",
   "language": "python",
   "name": "python3"
  },
  "language_info": {
   "codemirror_mode": {
    "name": "ipython",
    "version": 3
   },
   "file_extension": ".py",
   "mimetype": "text/x-python",
   "name": "python",
   "nbconvert_exporter": "python",
   "pygments_lexer": "ipython3",
   "version": "3.8.3"
  }
 },
 "nbformat": 4,
 "nbformat_minor": 4
}

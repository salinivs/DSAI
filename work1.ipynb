{
 "cells": [
  {
   "cell_type": "markdown",
   "metadata": {},
   "source": [
    "Q1)Input a string of odd length (minimum 9 characters), print a string made of the 3\n",
    "   middle characters from input string.(eg :- if input is abcdefghi, answer should be def)\n"
   ]
  },
  {
   "cell_type": "code",
   "execution_count": 8,
   "metadata": {},
   "outputs": [
    {
     "name": "stdout",
     "output_type": "stream",
     "text": [
      "enter a siring of odd length with minimum 9 character  : abcdefghi\n",
      "Three middle characters from input string :  def\n"
     ]
    }
   ],
   "source": [
    "s=input(\"enter a siring of odd length with minimum 9 character  : \")\n",
    "length=len(s)\n",
    "mid=length//2\n",
    "if(length>=9 and length%2==1):\n",
    "    string=s[mid-1:mid+2:1]\n",
    "    print(\"Three middle characters from input string : \",string)\n",
    "else:\n",
    "    print(\"follow the condition: odd length with minimum 9 character\")"
   ]
  },
  {
   "cell_type": "markdown",
   "metadata": {},
   "source": [
    "Q2)Calculate the sum and average of first n natural numbers\n",
    "a. using for loop\n",
    "b.using while loop"
   ]
  },
  {
   "cell_type": "code",
   "execution_count": 3,
   "metadata": {},
   "outputs": [
    {
     "name": "stdout",
     "output_type": "stream",
     "text": [
      "enter number5\n",
      "The sum is 15\n",
      "average of number 3.0\n"
     ]
    }
   ],
   "source": [
    "#  a.using for loop\n",
    "\n",
    "num=int(input(\"enter number\"))\n",
    "if num<0:\n",
    "    print(\"enter a positive number\")\n",
    "else:\n",
    "    sum=0\n",
    "    for num in range(1,num+1):\n",
    "        sum+=num\n",
    "    print(\"The sum is\",sum)\n",
    "    print(\"average of number\",sum/num)"
   ]
  },
  {
   "cell_type": "code",
   "execution_count": 4,
   "metadata": {},
   "outputs": [
    {
     "name": "stdout",
     "output_type": "stream",
     "text": [
      "enter number5\n",
      "The sum is 15\n",
      "average of number 3.0\n"
     ]
    }
   ],
   "source": [
    "# b.using while loop\n",
    "n=int(input(\"enter number\"))\n",
    "num=n\n",
    "if num<0:\n",
    "    print(\"enter a positive number\")\n",
    "else:\n",
    "    sum=0\n",
    "    while(num>0):\n",
    "        sum+=num\n",
    "        num-=1\n",
    "    print(\"The sum is\",sum)\n",
    "    print(\"average of number\", sum / n)"
   ]
  },
  {
   "cell_type": "markdown",
   "metadata": {},
   "source": [
    "Q3) Accept list of 5 float numbers as input from user using loop and store values in a list"
   ]
  },
  {
   "cell_type": "code",
   "execution_count": 7,
   "metadata": {},
   "outputs": [
    {
     "name": "stdout",
     "output_type": "stream",
     "text": [
      "enter list element1.2\n",
      "enter list element3.4\n",
      "enter list element5.6\n",
      "enter list element7.8\n",
      "enter list element9.5\n",
      "[1.2, 3.4, 5.6, 7.8, 9.5]\n"
     ]
    }
   ],
   "source": [
    "list=[]\n",
    "while(len(list)<5):\n",
    "    a=float(input(\"enter list element\"))\n",
    "    list.append(a)\n",
    "print(list)"
   ]
  },
  {
   "cell_type": "markdown",
   "metadata": {},
   "source": [
    "Q4)Print the following pattern\n",
    "a.)                             \n",
    "\n",
    "    1\n",
    "    1 2\n",
    "    1 2 3\n",
    "    1 2 3 4\n",
    "    1 2 3 4 5\n",
    "\n",
    "b.)\n",
    "    5 4 3 2 1\n",
    "    4 3 2 1\n",
    "    3 2 1\n",
    "    2 1\n",
    "    1\n",
    "\n"
   ]
  },
  {
   "cell_type": "code",
   "execution_count": 9,
   "metadata": {},
   "outputs": [
    {
     "name": "stdout",
     "output_type": "stream",
     "text": [
      "\r\n",
      "1 \r\n",
      "1 2 \r\n",
      "1 2 3 \r\n",
      "1 2 3 4 \r\n",
      "1 2 3 4 5 \r\n"
     ]
    }
   ],
   "source": [
    "#Q4) part a\n",
    "\n",
    "def pattern(n):\n",
    "    #num=1\n",
    "    for i in range(0,n):\n",
    "        num=1\n",
    "        for j in range(0,i):\n",
    "            print(num,end=\" \")\n",
    "            num+=1\n",
    "        print(\"\\r\")\n",
    "pattern(6)"
   ]
  },
  {
   "cell_type": "code",
   "execution_count": 10,
   "metadata": {},
   "outputs": [
    {
     "name": "stdout",
     "output_type": "stream",
     "text": [
      "5 4 3 2 1 \r\n",
      "4 3 2 1 \r\n",
      "3 2 1 \r\n",
      "2 1 \r\n",
      "1 \r\n"
     ]
    }
   ],
   "source": [
    "#Q4) b part\n",
    "\n",
    "def pattern(n):\n",
    "    for i in range(n,0,-1):\n",
    "        for j in range(0,i):\n",
    "            print(i,end=\" \")\n",
    "            i-=1\n",
    "        print(\"\\r\")\n",
    "pattern(5)"
   ]
  },
  {
   "cell_type": "markdown",
   "metadata": {},
   "source": [
    "Q5) input a number, count and print the total number of digits in that number using while\n",
    "   loop"
   ]
  },
  {
   "cell_type": "code",
   "execution_count": 11,
   "metadata": {},
   "outputs": [
    {
     "name": "stdout",
     "output_type": "stream",
     "text": [
      "enter a number333\n",
      "total number of digits in 333 is: 3\n"
     ]
    }
   ],
   "source": [
    "n=int(input(\"enter a number\"))\n",
    "num=n\n",
    "count=0\n",
    "while(num!=0):\n",
    "        num=num//10\n",
    "        count=count+1\n",
    "print(\"total number of digits in\",n,\"is:\",count)"
   ]
  },
  {
   "cell_type": "markdown",
   "metadata": {},
   "source": [
    " Q6)Given two lists. Create a third list by picking an odd-index element from the first list\n",
    "    and even index elements from second.\n",
    "    \n",
    "    listOne = [3, 6, 9, 12, 15, 18, 21]\n",
    "    listTwo = [4, 8, 12, 16, 20, 24, 28]"
   ]
  },
  {
   "cell_type": "code",
   "execution_count": 13,
   "metadata": {},
   "outputs": [
    {
     "name": "stdout",
     "output_type": "stream",
     "text": [
      " third list is : \n",
      "[6, 12, 18, 4, 12, 20, 28]\n"
     ]
    }
   ],
   "source": [
    "listOne = [3, 6, 9, 12, 15, 18, 21]\n",
    "listTwo = [4, 8, 12, 16, 20, 24, 28]\n",
    "list1=[]\n",
    "odd= listOne[1::2]\n",
    "even = listTwo[0::2]\n",
    "print(\" third list is : \")\n",
    "list1.extend(odd+even)\n",
    "print(list1)"
   ]
  },
  {
   "cell_type": "markdown",
   "metadata": {},
   "source": [
    "Q7) program to get the smallest number from a list"
   ]
  },
  {
   "cell_type": "code",
   "execution_count": 14,
   "metadata": {},
   "outputs": [
    {
     "name": "stdout",
     "output_type": "stream",
     "text": [
      "enter the list size5\n",
      "enter list element1\n",
      "enter list element9\n",
      "enter list element8\n",
      "enter list element4\n",
      "enter list element2\n",
      "smallest element of list 1\n"
     ]
    }
   ],
   "source": [
    "list=[]\n",
    "a=int(input(\"enter the list size\"))\n",
    "while(len(list)<=a):\n",
    "    a=int(input(\"enter list element\"))\n",
    "    list.append(a)\n",
    "    list.sort()\n",
    "print(\"smallest element of list\",list[0])"
   ]
  },
  {
   "cell_type": "markdown",
   "metadata": {},
   "source": [
    "Q8)Reverse the following list using for loop and range\n",
    "[do not use reverse or reversed like functions]\n",
    "\n",
    "list1 = [10, 20, 30, 4, 50]"
   ]
  },
  {
   "cell_type": "code",
   "execution_count": 16,
   "metadata": {},
   "outputs": [
    {
     "name": "stdout",
     "output_type": "stream",
     "text": [
      "50\n",
      "4\n",
      "30\n",
      "20\n",
      "10\n"
     ]
    }
   ],
   "source": [
    "lst=[10,20,30,4,50]\n",
    "k=len(lst)\n",
    "for i in range(k-1,-1,-1):\n",
    "        print(lst[i])"
   ]
  },
  {
   "cell_type": "code",
   "execution_count": null,
   "metadata": {},
   "outputs": [],
   "source": []
  }
 ],
 "metadata": {
  "kernelspec": {
   "display_name": "Python 3",
   "language": "python",
   "name": "python3"
  },
  "language_info": {
   "codemirror_mode": {
    "name": "ipython",
    "version": 3
   },
   "file_extension": ".py",
   "mimetype": "text/x-python",
   "name": "python",
   "nbconvert_exporter": "python",
   "pygments_lexer": "ipython3",
   "version": "3.8.3"
  }
 },
 "nbformat": 4,
 "nbformat_minor": 4
}
